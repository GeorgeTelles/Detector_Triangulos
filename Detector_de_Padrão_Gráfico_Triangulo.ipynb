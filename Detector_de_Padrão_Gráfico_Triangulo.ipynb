{
  "cells": [
    {
      "cell_type": "markdown",
      "metadata": {
        "id": "view-in-github",
        "colab_type": "text"
      },
      "source": [
        "<a href=\"https://colab.research.google.com/github/GeorgeTelles/Detector_Triangulos/blob/main/Detector_de_Padr%C3%A3o_Gr%C3%A1fico_Triangulo.ipynb\" target=\"_parent\"><img src=\"https://colab.research.google.com/assets/colab-badge.svg\" alt=\"Open In Colab\"/></a>"
      ]
    },
    {
      "cell_type": "markdown",
      "metadata": {
        "id": "mr8o75594R0T"
      },
      "source": [
        "<img src=\"https://raw.githubusercontent.com/GeorgeTelles/georgetelles/f69531ec6b293b5148563588a764c010015d315e/logo_clara.png\" width=\"300\" align=\"left\"/>\n",
        "<img src=\"https://raw.githubusercontent.com/GeorgeTelles/georgetelles/f69531ec6b293b5148563588a764c010015d315e/logo_dark.png\" width=\"300\" align=\"left\"/>"
      ]
    },
    {
      "cell_type": "markdown",
      "metadata": {
        "id": "zNRZ5ynA4UGz"
      },
      "source": [
        "---\n",
        "# **Detector de Padrões gráficos com Python: Triangulos**\n",
        "\n",
        "#### Detecção do padrão de triângulo nos preços\n",
        "---"
      ]
    },
    {
      "cell_type": "markdown",
      "metadata": {
        "id": "P0apXyKspzJG"
      },
      "source": [
        "Padrões gráficos nos preços referem-se a certos **movimentos recorrentes e identificáveis** nos preços de ativos.<p>\n",
        "Esses padrões são baseados na **interação entre oferta e demanda** no mercado para buscar antecipar os movimentos futuros nos preços.<p>\n",
        "São classificados como padrões de **continuação ou reversão**."
      ]
    },
    {
      "cell_type": "markdown",
      "metadata": {
        "id": "9ehEb14ppzJG"
      },
      "source": [
        "O padrão **Triângulo** é formado pela convergência das linhas de suporte e resistência, criando uma área triangular no gráfico.\n",
        "\n"
      ]
    },
    {
      "cell_type": "markdown",
      "metadata": {
        "id": "QubjMNhhpzJH"
      },
      "source": [
        "https://www.investopedia.com/terms/t/triangle.asp"
      ]
    },
    {
      "cell_type": "markdown",
      "metadata": {
        "id": "M0eLwTEGpzJH"
      },
      "source": [
        "<img src=\"https://www.investopedia.com/thmb/OsZtPqhYt4nOMbXsbhmx5nejkW0=/750x0/filters:no_upscale():max_bytes(150000):strip_icc():format(webp)/UnderstandingTriangle2-0651c3c900b3422cadc70d83555a5072.png\" width=\"600\" align=\"left\"/>"
      ]
    },
    {
      "cell_type": "markdown",
      "metadata": {
        "id": "h3DCoGAvpzJH"
      },
      "source": [
        "**Triângulo Ascendente**: linha de resistência horizontal e uma linha de suporte inclinada ascendente.<p>\n",
        "Indica que a pressão de compra está aumentando gradualmente enquanto a pressão de venda é contida.<p>\n",
        "É classificado como uma formação de continuação, ou seja, após a consolidação no triângulo, espera-se que a tendência anterior continue.<p>\n",
        "Entretanto, se ocorre a falha no rompimento, muitos acreditam que funciona como um forte padrão de reversão."
      ]
    },
    {
      "cell_type": "markdown",
      "metadata": {
        "id": "dzYJeGqZ51my"
      },
      "source": [
        "# 1. Bibliotecas"
      ]
    },
    {
      "cell_type": "code",
      "execution_count": null,
      "metadata": {
        "id": "-oC8j-6m4T5z"
      },
      "outputs": [],
      "source": [
        "# Manipulação de dados e séries temporais\n",
        "import numpy as np\n",
        "import pandas as pd\n",
        "from datetime import datetime, timedelta, date, time\n",
        "from time import sleep\n",
        "\n",
        "# Análises estatísticas\n",
        "from scipy import stats\n",
        "\n",
        "# Dados OHLCV\n",
        "import yfinance as yf\n",
        "\n",
        "# Visualização\n",
        "import plotly.graph_objects as go\n",
        "import mplfinance as mpf"
      ]
    },
    {
      "cell_type": "markdown",
      "metadata": {
        "id": "uaDixLj2pzJI"
      },
      "source": [
        "# 2. Baixar os dados OHLC: 1 ativo"
      ]
    },
    {
      "cell_type": "markdown",
      "metadata": {
        "id": "CvIjQ0tapzJJ"
      },
      "source": [
        "Determinar data inicial e final dos dados e o ativo desejado"
      ]
    },
    {
      "cell_type": "code",
      "execution_count": null,
      "metadata": {
        "id": "8t0Dru-GpzJK"
      },
      "outputs": [],
      "source": [
        "start_date = datetime(2023,1,1)\n",
        "end_date = datetime.now() + timedelta(days=1)"
      ]
    },
    {
      "cell_type": "code",
      "execution_count": null,
      "metadata": {
        "id": "dpTbj9HlpzJK"
      },
      "outputs": [],
      "source": [
        "ticker = \"AALR3.SA\""
      ]
    },
    {
      "cell_type": "markdown",
      "metadata": {
        "id": "O8myrJhnpzJK"
      },
      "source": [
        "Baixar os dados com o MT5"
      ]
    },
    {
      "cell_type": "code",
      "execution_count": null,
      "metadata": {
        "id": "xQvsZMThiHjd"
      },
      "outputs": [],
      "source": [
        "df = yf.download(ticker,start=start_date, end=end_date)\n",
        "df = pd.DataFrame(df)\n",
        "df = df.drop(['Volume'], axis=1)\n",
        "df.insert(0, 'ticker', ticker)\n",
        "df.columns = df.columns.str.lower().str.replace(' ', '_')"
      ]
    },
    {
      "cell_type": "markdown",
      "metadata": {
        "id": "xZjsKfCOpzJK"
      },
      "source": [
        "# 3. Criar as funções para localizar os micro pivôs (micro topos e fundos)"
      ]
    },
    {
      "cell_type": "code",
      "execution_count": null,
      "metadata": {
        "id": "tVJ2o5egpzJK"
      },
      "outputs": [],
      "source": [
        "def pivots_high_idx(df, i, n_cdls):\n",
        "    ls_pivots_high = []\n",
        "    for x in range(n_cdls):\n",
        "        ls_pivots_high.append(df.high.iloc[i] > df.high.iloc[i-(x+1)])\n",
        "        ls_pivots_high.append(df.high.iloc[i] >= df.high.iloc[i+(x+1)])\n",
        "    if all(ls_pivots_high):\n",
        "        return 1\n",
        "    else:\n",
        "        return 0\n",
        "\n",
        "def pivots_low_idx(df, i, n_cdls):\n",
        "    ls_pivots_low = []\n",
        "    for x in range(n_cdls):\n",
        "        # Use .iloc to access by position\n",
        "        ls_pivots_low.append(df.low.iloc[i] < df.low.iloc[i-(x+1)])\n",
        "        ls_pivots_low.append(df.low.iloc[i] <= df.low.iloc[i+(x+1)])\n",
        "    if all(ls_pivots_low):\n",
        "        return -1\n",
        "    else:\n",
        "        return 0"
      ]
    },
    {
      "cell_type": "code",
      "execution_count": null,
      "metadata": {
        "id": "XCOSuAFupzJL"
      },
      "outputs": [],
      "source": [
        "n_cdls=3\n",
        "ls_pivots_high = []\n",
        "ls_pivots_low = []\n",
        "ls_pivots_high.extend(np.zeros(n_cdls, dtype=int))\n",
        "ls_pivots_low.extend(np.zeros(n_cdls, dtype=int))\n",
        "\n",
        "for i in range(n_cdls, len(df)-n_cdls):\n",
        "    ls_pivots_high.append(pivots_high_idx(df, i, n_cdls))\n",
        "    ls_pivots_low.append(pivots_low_idx(df, i, n_cdls))\n",
        "\n",
        "ls_pivots_high.extend(np.zeros(n_cdls, dtype=int))\n",
        "ls_pivots_low.extend(np.zeros(n_cdls, dtype=int))\n",
        "\n",
        "df['pivots_high_idx'] = ls_pivots_high\n",
        "df['pivots_low_idx'] = ls_pivots_low"
      ]
    },
    {
      "cell_type": "code",
      "execution_count": null,
      "metadata": {
        "id": "pUO8OSRapzJL"
      },
      "outputs": [],
      "source": [
        "def pivots_high_values(df, i):\n",
        "    if df.pivots_high_idx.iloc[i] == 1:\n",
        "        return df['high'].iloc[i] + 0.01\n",
        "    else:\n",
        "        return np.NaN\n",
        "\n",
        "def pivots_low_values(df, i):\n",
        "    if df.pivots_low_idx.iloc[i] == -1:\n",
        "        return df['low'].iloc[i] - 0.01\n",
        "    else:\n",
        "        return np.NaN\n"
      ]
    },
    {
      "cell_type": "code",
      "execution_count": null,
      "metadata": {
        "id": "SL9QzLyVpzJL"
      },
      "outputs": [],
      "source": [
        "ls_pivots_high_values = []\n",
        "ls_pivots_low_values = []\n",
        "\n",
        "for i in range(len(df)):\n",
        "    ls_pivots_high_values.append(pivots_high_values(df, i))\n",
        "    ls_pivots_low_values.append(pivots_low_values(df, i))\n",
        "\n",
        "df['pivots_high_values'] = ls_pivots_high_values\n",
        "df['pivots_low_values'] = ls_pivots_low_values"
      ]
    },
    {
      "cell_type": "code",
      "execution_count": null,
      "metadata": {
        "id": "3Z7b48HjpzJL"
      },
      "outputs": [],
      "source": [
        "fig_window=500\n",
        "pivots_high = mpf.make_addplot(df.pivots_high_values[:fig_window],type='scatter',markersize=15,marker='^', color='blue')\n",
        "pivots_low = mpf.make_addplot(df.pivots_low_values[:fig_window],type='scatter',markersize=15,marker='^', color='red')\n",
        "mpf.plot(df[:fig_window], type='candle', addplot=[pivots_high, pivots_low], figsize=(10,6))"
      ]
    },
    {
      "cell_type": "markdown",
      "metadata": {
        "id": "uEPO4fZkpzJL"
      },
      "source": [
        "# 4. Regressão linear dos pivôs"
      ]
    },
    {
      "cell_type": "code",
      "execution_count": null,
      "metadata": {
        "id": "zMGk755dpzJM"
      },
      "outputs": [],
      "source": [
        "backward_cdls = 50  # Quantos candles no máximo formam um triângulo\n",
        "count_patterns = 0\n",
        "\n",
        "for i in range(backward_cdls, len(df)):\n",
        "\n",
        "    if df.pivots_high_idx.iloc[i] == 1 or df.pivots_low_idx.iloc[i] == -1:\n",
        "        df_temporary = df.iloc[i-backward_cdls:i+1].reset_index()\n",
        "        df_temporary_high = df_temporary[df_temporary.pivots_high_idx == 1]\n",
        "        df_temporary_low = df_temporary[df_temporary.pivots_low_idx == -1]\n",
        "\n",
        "        if len(df_temporary_high) > 3 and len(df_temporary_low) > 3:\n",
        "            regr_test_high = stats.linregress(df_temporary_high.index, df_temporary_high.high)\n",
        "            regr_test_low = stats.linregress(df_temporary_low.index, df_temporary_low.low)\n",
        "\n",
        "            if (-0.2 < regr_test_high.rvalue < 0.2) and (regr_test_low.rvalue > 0.8): #é aqui que eu regulo a inclinação das retas\n",
        "                print(\"data:\", df_temporary.iloc[-1]['Date'].strftime('%Y-%m-%d'),'candle_idx =', i, 'rvalue_high =', regr_test_high.rvalue, 'rvalue_low =', regr_test_low.rvalue)\n",
        "                count_patterns += 1\n",
        "\n",
        "                fig = go.Figure(data=[go.Candlestick(x=df_temporary.index,\n",
        "                                                    open=df_temporary['open'],\n",
        "                                                    high=df_temporary['high'],\n",
        "                                                    low=df_temporary['low'],\n",
        "                                                    close=df_temporary['close'],\n",
        "                                                    name=df_temporary.ticker.iloc[0])])\n",
        "\n",
        "                fig.data[0].increasing.fillcolor = 'white'\n",
        "                fig.data[0].increasing.line.color = 'black'\n",
        "                fig.data[0].increasing.line.width = 1.5\n",
        "                fig.data[0].decreasing.fillcolor = 'black'\n",
        "                fig.data[0].decreasing.line.color = 'black'\n",
        "                fig.data[0].decreasing.line.width = 1.5\n",
        "\n",
        "                fig.add_scatter(x=df_temporary.index, y=df_temporary['pivots_high_values'], mode=\"markers\",\n",
        "                                marker=dict(size=7, color=\"green\"))\n",
        "\n",
        "                fig.add_scatter(x=df_temporary.index, y=df_temporary['pivots_low_values'], mode=\"markers\",\n",
        "                                marker=dict(size=7, color=\"red\"),\n",
        "                                name=\"pivot_low\")\n",
        "                fig.add_trace(go.Scatter(x=df_temporary_high.index, y=(regr_test_high.slope * df_temporary_high.index + regr_test_high.intercept),\n",
        "                                            mode='lines', name='max slope', line=dict(color='green', width=3)))\n",
        "                fig.add_trace(go.Scatter(x=df_temporary_low.index, y=(regr_test_low.slope * df_temporary_low.index + regr_test_low.intercept),\n",
        "                                            mode='lines', name='min slope', line=dict(color='red', width=3)))\n",
        "                fig.update_layout(xaxis_rangeslider_visible=False, width=600, height=400, showlegend=False)\n",
        "\n",
        "                fig.show()\n",
        "print('Triângulos encontrados =', count_patterns)\n"
      ]
    }
  ],
  "metadata": {
    "colab": {
      "provenance": [],
      "include_colab_link": true
    },
    "kernelspec": {
      "display_name": "Python 3",
      "name": "python3"
    },
    "language_info": {
      "codemirror_mode": {
        "name": "ipython",
        "version": 3
      },
      "file_extension": ".py",
      "mimetype": "text/x-python",
      "name": "python",
      "nbconvert_exporter": "python",
      "pygments_lexer": "ipython3",
      "version": "3.12.4"
    }
  },
  "nbformat": 4,
  "nbformat_minor": 0
}