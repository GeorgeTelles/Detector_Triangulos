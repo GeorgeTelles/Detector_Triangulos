{
  "cells": [
    {
      "cell_type": "markdown",
      "metadata": {
        "id": "view-in-github",
        "colab_type": "text"
      },
      "source": [
        "<a href=\"https://colab.research.google.com/github/GeorgeTelles/Detector_Triangulos/blob/main/Detector_de_Padr%C3%A3o_Gr%C3%A1fico_Triangulo_Multiativo.ipynb\" target=\"_parent\"><img src=\"https://colab.research.google.com/assets/colab-badge.svg\" alt=\"Open In Colab\"/></a>"
      ]
    },
    {
      "cell_type": "markdown",
      "metadata": {
        "id": "mr8o75594R0T"
      },
      "source": [
        "<img src=\"https://raw.githubusercontent.com/GeorgeTelles/georgetelles/f69531ec6b293b5148563588a764c010015d315e/logo_clara.png\" width=\"300\" align=\"left\"/>\n",
        "<img src=\"https://raw.githubusercontent.com/GeorgeTelles/georgetelles/f69531ec6b293b5148563588a764c010015d315e/logo_dark.png\" width=\"300\" align=\"left\"/>"
      ]
    },
    {
      "cell_type": "markdown",
      "metadata": {
        "id": "zNRZ5ynA4UGz"
      },
      "source": [
        "---\n",
        "# **Detector de Padrões gráficos em multi-ativos com Python: Triangulos**\n",
        "\n",
        "#### Detecção do padrão de triângulo nos preços\n",
        "---"
      ]
    },
    {
      "cell_type": "markdown",
      "metadata": {
        "id": "P0apXyKspzJG"
      },
      "source": [
        "Padrões gráficos nos preços referem-se a certos **movimentos recorrentes e identificáveis** nos preços de ativos.<p>\n",
        "Esses padrões são baseados na **interação entre oferta e demanda** no mercado para buscar antecipar os movimentos futuros nos preços.<p>\n",
        "São classificados como padrões de **continuação ou reversão**."
      ]
    },
    {
      "cell_type": "markdown",
      "metadata": {
        "id": "9ehEb14ppzJG"
      },
      "source": [
        "O padrão **Triângulo** é formado pela convergência das linhas de suporte e resistência, criando uma área triangular no gráfico."
      ]
    },
    {
      "cell_type": "markdown",
      "metadata": {
        "id": "QubjMNhhpzJH"
      },
      "source": [
        "https://www.investopedia.com/terms/t/triangle.asp"
      ]
    },
    {
      "cell_type": "markdown",
      "metadata": {
        "id": "M0eLwTEGpzJH"
      },
      "source": [
        "<img src=\"https://www.investopedia.com/thmb/OsZtPqhYt4nOMbXsbhmx5nejkW0=/750x0/filters:no_upscale():max_bytes(150000):strip_icc():format(webp)/UnderstandingTriangle2-0651c3c900b3422cadc70d83555a5072.png\" width=\"600\" align=\"left\"/>"
      ]
    },
    {
      "cell_type": "markdown",
      "metadata": {
        "id": "h3DCoGAvpzJH"
      },
      "source": [
        "**Triângulo Ascendente**: linha de resistência horizontal e uma linha de suporte inclinada ascendente.<p>\n",
        "Indica que a pressão de compra está aumentando gradualmente enquanto a pressão de venda é contida.<p>\n",
        "É classificado como uma formação de continuação, ou seja, após a consolidação no triângulo, espera-se que a tendência anterior continue.<p>\n",
        "Entretanto, se ocorre a falha no rompimento, muitos acreditam que funciona como um forte padrão de reversão."
      ]
    },
    {
      "cell_type": "markdown",
      "metadata": {
        "id": "dzYJeGqZ51my"
      },
      "source": [
        "# 1. Bibliotecas"
      ]
    },
    {
      "cell_type": "code",
      "execution_count": null,
      "metadata": {
        "id": "-oC8j-6m4T5z"
      },
      "outputs": [],
      "source": [
        "# Manipulação de dados e séries temporais\n",
        "!pip install mplfinance\n",
        "import numpy as np\n",
        "import pandas as pd\n",
        "from datetime import datetime, timedelta, date, time\n",
        "from time import sleep\n",
        "\n",
        "# Análises estatísticas\n",
        "from scipy import stats\n",
        "\n",
        "# Dados OHLCV\n",
        "import yfinance as yf\n",
        "\n",
        "# Visualização\n",
        "import plotly.graph_objects as go\n",
        "import mplfinance as mpf"
      ]
    },
    {
      "cell_type": "markdown",
      "metadata": {
        "id": "uaDixLj2pzJI"
      },
      "source": [
        "# 2. Baixar os dados OHLCV: Vários Ativos"
      ]
    },
    {
      "cell_type": "markdown",
      "metadata": {
        "id": "CvIjQ0tapzJJ"
      },
      "source": [
        "Determinar data inicial e final dos dados e o ativo desejado"
      ]
    },
    {
      "cell_type": "code",
      "execution_count": null,
      "metadata": {
        "id": "8t0Dru-GpzJK"
      },
      "outputs": [],
      "source": [
        "start_date = datetime(2023,6,1)\n",
        "end_date = datetime.now() + timedelta(days=1)"
      ]
    },
    {
      "cell_type": "markdown",
      "metadata": {
        "id": "O8myrJhnpzJK"
      },
      "source": [
        "Baixar os dados com o Yfinance"
      ]
    },
    {
      "cell_type": "code",
      "execution_count": null,
      "metadata": {
        "id": "MfycgpZesXMY"
      },
      "outputs": [],
      "source": [
        "tickers = ['AALR3', 'ABCB4', 'ABEV3', 'AERI3', 'AESB3', 'AGRO3', 'ALPA4', 'ALUP11', 'AMBP3', 'ANIM3', 'ARML3', 'ARZZ3',\n",
        "            'ASAI3', 'AURE3', 'AZUL4', 'B3SA3', 'BBAS3', 'BBDC3', 'BBDC4', 'BBSE3', 'BEEF3', 'BLAU3', 'BMOB3', 'BPAC11',\n",
        "            'BPAN4', 'BRAP4', 'BRFS3', 'BRKM5', 'BRPR3', 'BRSR6', 'CAML3', 'CASH3', 'CBAV3', 'CCRO3', 'CEAB3', 'CIEL3', 'CLSA3',\n",
        "            'CMIG3', 'CMIG4', 'CMIN3', 'COGN3', 'CPFE3', 'CPLE6', 'CRFB3', 'CSAN3', 'CSMG3', 'CSNA3', 'CURY3', 'CVCB3', 'CXSE3',\n",
        "            'CYRE3', 'DASA3', 'DIRR3', 'DXCO3', 'ECOR3', 'EGIE3', 'ELET3', 'ELET6', 'EMBR3', 'ENAT3', 'ENEV3', 'ENGI11',\n",
        "            'EQTL3', 'ESPA3', 'EVEN3', 'EZTC3', 'FESA4', 'FHER3', 'FLRY3', 'GFSA3', 'GGBR4', 'GGPS3', 'GMAT3', 'GOAU4', 'GOLL4',\n",
        "            'GRND3', 'GUAR3', 'HAPV3', 'HBSA3', 'HYPE3', 'IFCM3', 'IGTI11', 'INTB3', 'IRBR3', 'ITSA4', 'ITUB3', 'ITUB4', 'JALL3',\n",
        "            'JBSS3', 'JHSF3', 'KEPL3', 'KLBN11', 'LAVV3', 'LEVE3', 'LJQQ3', 'LOGG3', 'LOGN3', 'LREN3', 'LWSA3', 'MATD3', 'MDIA3',\n",
        "            'MEAL3', 'MEGA3', 'MGLU3', 'MILS3', 'MLAS3', 'MODL3', 'MOVI3', 'MRFG3', 'MRVE3', 'MULT3', 'MYPK3', 'NEOE3', 'NTCO3',\n",
        "            'ODPV3', 'ONCO3', 'ORVR3', 'PCAR3', 'PETR3', 'PETR4', 'PETZ3', 'PGMN3', 'PNVL3', 'POMO4', 'POSI3', 'PRIO3', 'PSSA3',\n",
        "            'PTBL3', 'QUAL3', 'RADL3', 'RAIL3', 'RAIZ4', 'RANI3', 'RAPT4', 'RDOR3', 'RECV3', 'RENT3', 'ROMI3', 'RRRP3', 'SANB11',\n",
        "            'SAPR11', 'SBFG3', 'SBSP3', 'SEER3', 'SEQL3', 'SIMH3', 'SLCE3', 'SMFT3', 'SMTO3', 'SOMA3', 'SQIA3', 'STBP3', 'SUZB3',\n",
        "            'TAEE11', 'TASA4', 'TEND3', 'TIMS3', 'TOTS3', 'TRAD3', 'TRIS3', 'TRPL4', 'TTEN3', 'TUPY3', 'UGPA3', 'UNIP6', 'USIM5',\n",
        "            'VALE3', 'VAMO3', 'VBBR3', 'VIIA3', 'VIVA3', 'VIVT3', 'VULC3', 'WEGE3', 'WIZC3', 'YDUQ3', 'ZAMP3']\n",
        "\n",
        "for i in range(len(tickers)):\n",
        "    tickers[i] = tickers[i] + '.SA'\n"
      ]
    },
    {
      "cell_type": "markdown",
      "metadata": {
        "id": "4ev_nuUFsXMY"
      },
      "source": [
        "# 3. Criar as funções para localizar os micro pivôs (micro topos e fundos)"
      ]
    },
    {
      "cell_type": "code",
      "execution_count": null,
      "metadata": {
        "id": "cSPqG715sXMY"
      },
      "outputs": [],
      "source": [
        "def pivots_high_idx(df, i, n_cdls):\n",
        "    ls_pivots_high = []\n",
        "    for x in range(n_cdls):\n",
        "        ls_pivots_high.append(df.high.iloc[i] > df.high.iloc[i-(x+1)])\n",
        "        ls_pivots_high.append(df.high.iloc[i] >= df.high.iloc[i+(x+1)])\n",
        "    if all(ls_pivots_high):\n",
        "        return 1\n",
        "    else:\n",
        "        return 0\n",
        "\n",
        "def pivots_low_idx(df, i, n_cdls):\n",
        "    ls_pivots_low = []\n",
        "    for x in range(n_cdls):\n",
        "        # Use .iloc to access by position\n",
        "        ls_pivots_low.append(df.low.iloc[i] < df.low.iloc[i-(x+1)])\n",
        "        ls_pivots_low.append(df.low.iloc[i] <= df.low.iloc[i+(x+1)])\n",
        "    if all(ls_pivots_low):\n",
        "        return -1\n",
        "    else:\n",
        "        return 0"
      ]
    },
    {
      "cell_type": "code",
      "execution_count": null,
      "metadata": {
        "id": "0Z5LIxtosXMY"
      },
      "outputs": [],
      "source": [
        "def pivots_high_values(df, i):\n",
        "    if df.pivots_high_idx.iloc[i] == 1:\n",
        "        return df['high'].iloc[i] + 0.01\n",
        "    else:\n",
        "        return np.NaN\n",
        "\n",
        "def pivots_low_values(df, i):\n",
        "    if df.pivots_low_idx.iloc[i] == -1:\n",
        "        return df['low'].iloc[i] - 0.01\n",
        "    else:\n",
        "        return np.NaN"
      ]
    },
    {
      "cell_type": "markdown",
      "metadata": {
        "id": "ouJ_IzJhsXMY"
      },
      "source": [
        "# 4. Regressão linear dos pivôs"
      ]
    },
    {
      "cell_type": "code",
      "execution_count": null,
      "metadata": {
        "id": "_GPxhnefsXMZ"
      },
      "outputs": [],
      "source": [
        "n_cdls = 3\n",
        "count = 0\n",
        "\n",
        "while count < 1:\n",
        "\n",
        "    print('------- Analisando -------')\n",
        "\n",
        "    for ticker in tickers:\n",
        "        df = yf.download(ticker, start=start_date, end=end_date, progress=False,  )\n",
        "        df = pd.DataFrame(df)\n",
        "        df = df.drop(['Volume'], axis=1)\n",
        "        df.insert(0, 'ticker', ticker)\n",
        "        df.columns = df.columns.str.lower().str.replace(' ', '_')\n",
        "\n",
        "        ls_pivots_high = []\n",
        "        ls_pivots_low = []\n",
        "        ls_pivots_high.extend(np.zeros(n_cdls, dtype=int))\n",
        "        ls_pivots_low.extend(np.zeros(n_cdls, dtype=int))\n",
        "        for i in range(n_cdls, len(df) - n_cdls):\n",
        "            ls_pivots_high.append(pivots_high_idx(df, i, n_cdls))\n",
        "            ls_pivots_low.append(pivots_low_idx(df, i, n_cdls))\n",
        "        ls_pivots_high.extend(np.zeros(n_cdls, dtype=int))\n",
        "        ls_pivots_low.extend(np.zeros(n_cdls, dtype=int))\n",
        "        df['pivots_high_idx'] = ls_pivots_high\n",
        "        df['pivots_low_idx'] = ls_pivots_low\n",
        "\n",
        "        ls_pivots_high_values = []\n",
        "        ls_pivots_low_values = []\n",
        "        for i in range(len(df)):\n",
        "            ls_pivots_high_values.append(pivots_high_values(df, i))\n",
        "            ls_pivots_low_values.append(pivots_low_values(df, i))\n",
        "        df['pivots_high_values'] = ls_pivots_high_values\n",
        "        df['pivots_low_values'] = ls_pivots_low_values\n",
        "\n",
        "        backward_cdls = 50\n",
        "\n",
        "        df_temporary = df.iloc[-backward_cdls: -1].reset_index()\n",
        "        df_temporary_high = df_temporary[df_temporary.pivots_high_idx == 1]\n",
        "        df_temporary_low = df_temporary[df_temporary.pivots_low_idx == -1]\n",
        "        if len(df_temporary_high) > 3 and len(df_temporary_low) > 3:\n",
        "            regr_test_high = stats.linregress(df_temporary_high.index, df_temporary_high.high)\n",
        "            regr_test_low = stats.linregress(df_temporary_low.index, df_temporary_low.low)\n",
        "            if (-0.2 < regr_test_high.rvalue < 0.2) and (regr_test_low.rvalue > 0.8): #é aqui que eu regulo a inclinação das retas\n",
        "                print(df.iloc[0]['ticker'],\"data =\", df_temporary.iloc[-1]['Date'].strftime('%d-%m-%Y'), 'candle_idx =', i, 'rvalue_high =', regr_test_high.rvalue, 'rvalue_low =', regr_test_low.rvalue)\n",
        "                fig = go.Figure(data=[go.Candlestick(x=df_temporary.index,\n",
        "                                                    open=df_temporary['open'],\n",
        "                                                    high=df_temporary['high'],\n",
        "                                                    low=df_temporary['low'],\n",
        "                                                    close=df_temporary['close'],\n",
        "                                                    name=df_temporary.iloc[0]['ticker'])])\n",
        "                fig.data[0].increasing.fillcolor = 'white'\n",
        "                fig.data[0].increasing.line.color = 'black'\n",
        "                fig.data[0].increasing.line.width = 1.5\n",
        "                fig.data[0].decreasing.fillcolor = 'black'\n",
        "                fig.data[0].decreasing.line.color = 'black'\n",
        "                fig.data[0].decreasing.line.width = 1.5\n",
        "                fig.add_scatter(x=df_temporary.index, y=df_temporary['pivots_high_values'], mode=\"markers\",\n",
        "                                marker=dict(size=7, color=\"green\"))\n",
        "                fig.add_scatter(x=df_temporary.index, y=df_temporary['pivots_low_values'], mode=\"markers\",\n",
        "                                marker=dict(size=7, color=\"red\"),\n",
        "                                name=\"pivot_low\")\n",
        "                fig.add_trace(go.Scatter(x=df_temporary_high.index, y=(regr_test_high.slope * df_temporary_high.index + regr_test_high.intercept),\n",
        "                                            mode='lines', name='max slope', line=dict(color='green', width=3)))\n",
        "                fig.add_trace(go.Scatter(x=df_temporary_low.index, y=(regr_test_low.slope * df_temporary_low.index + regr_test_low.intercept),\n",
        "                                            mode='lines', name='min slope', line=dict(color='red', width=3)))\n",
        "                fig.update_layout(xaxis_rangeslider_visible=False, width=600, height=400, showlegend=False)\n",
        "                fig.show()\n",
        "\n",
        "    count += 1\n",
        "    sleep(5)\n"
      ]
    }
  ],
  "metadata": {
    "colab": {
      "provenance": [],
      "include_colab_link": true
    },
    "kernelspec": {
      "display_name": "Python 3",
      "name": "python3"
    },
    "language_info": {
      "codemirror_mode": {
        "name": "ipython",
        "version": 3
      },
      "file_extension": ".py",
      "mimetype": "text/x-python",
      "name": "python",
      "nbconvert_exporter": "python",
      "pygments_lexer": "ipython3",
      "version": "3.12.4"
    }
  },
  "nbformat": 4,
  "nbformat_minor": 0
}